{
 "cells": [
  {
   "cell_type": "code",
   "execution_count": null,
   "metadata": {
    "collapsed": true,
    "pycharm": {
     "is_executing": true
    }
   },
   "outputs": [],
   "source": [
    "import pandas as pd\n",
    "from xgboost import XGBClassifier\n",
    "from DataCleaner import DataCleaner\n",
    "from WeatherFeatures import WeatherFeatures\n",
    "from DatetimeFeatures import DatetimeFeatures\n",
    "from GeographicFeatures import GeographicFeatures\n",
    "\n",
    "from sklearn.metrics import f1_score\n",
    "from utils import get_evaluation_data, transform_features, pre_clean,\\\n",
    "                  post_clean, NON_BOOLEAN_FEATURES, predictions_to_labels\n",
    "\n",
    "import warnings\n",
    "warnings.filterwarnings('ignore')\n",
    "\n",
    "%matplotlib inline"
   ]
  },
  {
   "cell_type": "markdown",
   "source": [
    "## Run params:\n",
    "here you need to insert the paths to your data .csv files for the train and test:"
   ],
   "metadata": {
    "collapsed": false
   }
  },
  {
   "cell_type": "code",
   "execution_count": 3,
   "outputs": [],
   "source": [
    "# need to change for your test\n",
    "train_path  = 'data/tmp_train.csv'\n",
    "test_path   = 'data/tmp_test.csv'"
   ],
   "metadata": {
    "collapsed": false
   }
  },
  {
   "cell_type": "markdown",
   "source": [
    "## Data loading:"
   ],
   "metadata": {
    "collapsed": false
   }
  },
  {
   "cell_type": "code",
   "execution_count": null,
   "outputs": [],
   "source": [
    "X_train, X_val, X_test, y_train, y_val, y_test = get_evaluation_data(train_path, test_path)"
   ],
   "metadata": {
    "collapsed": false
   }
  },
  {
   "cell_type": "markdown",
   "source": [
    "## Features creation:"
   ],
   "metadata": {
    "collapsed": false
   }
  },
  {
   "cell_type": "code",
   "execution_count": null,
   "outputs": [],
   "source": [
    "X_train, X_val, X_test = transform_features(GeographicFeatures, X_train, X_val, X_test, None, force_fit=False)\n",
    "X_train, X_val, X_test = transform_features(DatetimeFeatures, X_train, X_val, X_test, None, force_fit=False)\n",
    "X_train, X_val, X_test = transform_features(WeatherFeatures, X_train, X_val, X_test, None, force_fit=False)"
   ],
   "metadata": {
    "collapsed": false,
    "pycharm": {
     "is_executing": true
    }
   }
  },
  {
   "cell_type": "markdown",
   "source": [
    "## Data cleaning:"
   ],
   "metadata": {
    "collapsed": false
   }
  },
  {
   "cell_type": "code",
   "execution_count": null,
   "outputs": [],
   "source": [
    "X_train, X_val, X_test = pre_clean(X_train, X_val, X_test)\n",
    "\n",
    "X_train_non_bool, X_val_non_bool, X_test_non_bool, y_train, y_val, y_test = \\\n",
    "                        transform_features(DataCleaner, X_train[NON_BOOLEAN_FEATURES],\n",
    "                        X_val[NON_BOOLEAN_FEATURES], X_test[NON_BOOLEAN_FEATURES],\n",
    "                        y_train, y_val, y_test, transform_y=True, force_fit=True)\n",
    "\n",
    "X_train, X_val, X_test = post_clean(X_train, X_val, X_test, X_train_non_bool, X_val_non_bool, X_test_non_bool)"
   ],
   "metadata": {
    "collapsed": false
   }
  },
  {
   "cell_type": "markdown",
   "source": [
    "## model creation and training:"
   ],
   "metadata": {
    "collapsed": false
   }
  },
  {
   "cell_type": "code",
   "execution_count": null,
   "outputs": [],
   "source": [
    "param = {\"n_estimators\" : 250, \"learning_rate\" : 0.31, \"max_depth\" : 9,\n",
    "         \"colsample_bytree\" : 0.85, \"subsample\" : 0.7, \"min_child_weight\" : 3.14,\n",
    "         \"reg_lambda\" : 0.23, \"reg_alpha\" : 0.14, \"n_jobs\" : -1}\n",
    "\n",
    "def f1_eval(y_pred, dtrain):\n",
    "        f1_err = 1 - f1_score(y_val, y_pred.argmax(1), average='weighted')\n",
    "        return 'f1_avg_err', f1_err\n",
    "\n",
    "clf = XGBClassifier(**param)\n",
    "clf.fit(X_train, y_train, eval_metric=f1_eval, eval_set=[(X_val, y_val)], early_stopping_rounds=10)"
   ],
   "metadata": {
    "collapsed": false
   }
  },
  {
   "cell_type": "markdown",
   "source": [
    "## predictions:"
   ],
   "metadata": {
    "collapsed": false
   }
  },
  {
   "cell_type": "code",
   "execution_count": null,
   "outputs": [],
   "source": [
    "preds = clf.predict(X_test)\n",
    "preds_names = predictions_to_labels(preds)"
   ],
   "metadata": {
    "collapsed": false
   }
  }
 ],
 "metadata": {
  "kernelspec": {
   "display_name": "Python 3",
   "language": "python",
   "name": "python3"
  },
  "language_info": {
   "codemirror_mode": {
    "name": "ipython",
    "version": 2
   },
   "file_extension": ".py",
   "mimetype": "text/x-python",
   "name": "python",
   "nbconvert_exporter": "python",
   "pygments_lexer": "ipython2",
   "version": "2.7.6"
  }
 },
 "nbformat": 4,
 "nbformat_minor": 0
}
